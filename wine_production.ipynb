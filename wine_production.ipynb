{
 "cells": [
  {
   "cell_type": "code",
   "execution_count": 1,
   "metadata": {},
   "outputs": [],
   "source": [
    "from cvxopt import matrix\n",
    "from cvxopt.solvers import lp\n",
    "import numpy as np"
   ]
  },
  {
   "cell_type": "code",
   "execution_count": 2,
   "metadata": {},
   "outputs": [],
   "source": [
    "n = 2\n",
    "m = 3\n",
    "c = [7.0, 5.0]\n",
    "s = [5000.0, 1000.0, 4000.0]\n",
    "p = [[30,50],\n",
    "     [20,10],\n",
    "     [50,40]]\n",
    "d = [1000.0, 1000.0]\n",
    "v = 1.0"
   ]
  },
  {
   "cell_type": "code",
   "execution_count": 3,
   "metadata": {},
   "outputs": [
    {
     "name": "stdout",
     "output_type": "stream",
     "text": [
      "     pcost       dcost       gap    pres   dres   k/t\n",
      " 0: -3.7568e+04 -2.7843e+04  4e+04  1e-16  1e+00  1e+00\n",
      " 1: -4.3002e+04 -3.6889e+04  2e+04  3e-16  7e-01  4e+02\n",
      " 2: -4.3865e+04 -4.2017e+04  6e+03  6e-16  2e-01  3e+02\n",
      " 3: -4.7620e+04 -4.6821e+04  2e+03  5e-16  7e-02  2e+02\n",
      " 4: -4.7825e+04 -4.7700e+04  3e+02  5e-16  1e-02  5e+01\n",
      " 5: -4.7998e+04 -4.7997e+04  3e+00  2e-16  1e-04  5e-01\n",
      " 6: -4.8000e+04 -4.8000e+04  3e-02  1e-15  1e-06  5e-03\n",
      " 7: -4.8000e+04 -4.8000e+04  3e-04  2e-15  1e-08  5e-05\n",
      "Optimal solution found.\n"
     ]
    }
   ],
   "source": [
    "A = matrix(np.concatenate((np.array(p) * 0.01, np.eye(m)), axis=1))\n",
    "b = matrix(s)\n",
    "G = matrix(-1 * np.eye(n + m))\n",
    "h = matrix(np.concatenate((-1 * np.array(d), np.zeros(m))))\n",
    "\n",
    "cc = matrix(np.concatenate((-1 * np.array(c), -v * np.ones(m))))\n",
    "\n",
    "sol = lp(cc, G, h, A, b)"
   ]
  },
  {
   "cell_type": "code",
   "execution_count": 4,
   "metadata": {},
   "outputs": [
    {
     "name": "stdout",
     "output_type": "stream",
     "text": [
      "[ 1.00e+03]\n",
      "[ 8.00e+03]\n",
      "[ 7.00e+02]\n",
      "[ 1.95e-06]\n",
      "[ 3.00e+02]\n",
      "\n"
     ]
    }
   ],
   "source": [
    "print(sol['x'])"
   ]
  },
  {
   "cell_type": "code",
   "execution_count": null,
   "metadata": {
    "collapsed": true
   },
   "outputs": [],
   "source": []
  }
 ],
 "metadata": {
  "kernelspec": {
   "display_name": "Python 3",
   "language": "python",
   "name": "python3"
  },
  "language_info": {
   "codemirror_mode": {
    "name": "ipython",
    "version": 3
   },
   "file_extension": ".py",
   "mimetype": "text/x-python",
   "name": "python",
   "nbconvert_exporter": "python",
   "pygments_lexer": "ipython3",
   "version": "3.6.7"
  }
 },
 "nbformat": 4,
 "nbformat_minor": 2
}
