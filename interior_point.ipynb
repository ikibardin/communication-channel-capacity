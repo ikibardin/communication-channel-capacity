{
 "cells": [
  {
   "cell_type": "code",
   "execution_count": 1,
   "metadata": {},
   "outputs": [],
   "source": [
    "from matplotlib import pyplot as plt\n",
    "import numpy as np\n",
    "from tqdm import tqdm\n",
    "import time\n",
    "from scipy import optimize\n",
    "%matplotlib inline"
   ]
  },
  {
   "cell_type": "markdown",
   "metadata": {},
   "source": [
    "# Newton's method with quality constraints\n",
    "\n",
    "First we implement an extension of Newton’s method to include equality\n",
    "constraints. We will need it later for building an interior-point barrier method. The implementation follows chapter 10 of Boyd Vandenberghe Convex optimization 2004 book."
   ]
  },
  {
   "cell_type": "code",
   "execution_count": 2,
   "metadata": {},
   "outputs": [],
   "source": [
    "\n",
    "\n",
    "class NewtonMethodWithEqualityConstraints:\n",
    "    def __init__(self):\n",
    "        pass\n",
    "    \n",
    "    def _get_newton_step(self, grad_func, hessian_func, A, x):\n",
    "        lhs_matrix = np.zeros(shape=(len(x) + A.shape[0], len(x) + A.shape[0]), dtype=x.dtype)\n",
    "        # print('DEBUG: mat shape {}'.format(lhs_matrix.shape))\n",
    "\n",
    "        lhs_matrix[:len(x), :len(x)] = hessian_func(x)\n",
    "        lhs_matrix[len(x):, :len(x)] = A.copy()\n",
    "        lhs_matrix[:len(x), len(x):] = A.T.copy()\n",
    "        \n",
    "        rhs_vec = np.zeros(len(x) + A.shape[0], dtype=x.dtype)\n",
    "        rhs_vec[:len(x)] = -grad_func(x)\n",
    "        \n",
    "        # print('DEBUG: mat shape {} ; vec shape {}'.format(lhs_matrix.shape, rhs_vec.shape))\n",
    "        \n",
    "        solution = np.linalg.solve(lhs_matrix, rhs_vec)\n",
    "        return solution[:len(x)]\n",
    "    \n",
    "    def _get_newton_decrement(self, hessian_func, x, newton_step):\n",
    "        return np.sqrt(newton_step.T @ hessian_func(x) @ newton_step)\n",
    "    \n",
    "    def _backtrack_step_size(self, func, grad_func, x, step, c=0.1, tau=0.1):\n",
    "        m = step.T @ grad_func(x)\n",
    "        step_size = 1.\n",
    "        while func(x) - func(x + step_size * step) < step_size * (-c*m):\n",
    "            # print('DEBUG: x={}; x + step_size * step={}; func(x)={}; '.format(lhs_matrix.shape))\n",
    "            step_size *= tau\n",
    "        return step_size\n",
    "        \n",
    "    def minimize(self, func, grad_func, hessian_func, A, b, x0, tol=1e-6):\n",
    "        while True:\n",
    "            step = self._get_newton_step(grad_func=grad_func,\n",
    "                                         hessian_func=hessian_func,\n",
    "                                         A=A, x=x0)\n",
    "            decrement = self._get_newton_decrement(hessian_func=hessian_func,\n",
    "                                                   x=x0, newton_step=step)\n",
    "            if decrement**2 / 2. < tol:\n",
    "                break\n",
    "            \n",
    "            step_size = self._backtrack_step_size(func=func,\n",
    "                                                  grad_func=grad_func,\n",
    "                                                  x=x0, step=step)\n",
    "            x0 = x0 + step_size * step\n",
    "        return x0"
   ]
  },
  {
   "cell_type": "markdown",
   "metadata": {},
   "source": [
    "Let's test our implementation of Newton's method with solving a simple optimization problem defined as follows:\n",
    "\n",
    "minimize $f(x, y) = x^2 + y^2$\n",
    "\n",
    "subject to $x = y + 1$.\n",
    "\n",
    "We expect to see optimal solution with $x = \\frac{1}{2}$ and $y = -\\frac{1}{2}$."
   ]
  },
  {
   "cell_type": "code",
   "execution_count": 3,
   "metadata": {
    "scrolled": false
   },
   "outputs": [
    {
     "data": {
      "text/plain": [
       "array([ 0.5, -0.5])"
      ]
     },
     "execution_count": 3,
     "metadata": {},
     "output_type": "execute_result"
    }
   ],
   "source": [
    "f = lambda x: np.sum(x**2)\n",
    "df = lambda x: 2*x\n",
    "d2f = lambda x: np.diag([2., 2.])\n",
    "\n",
    "solver = NewtonMethodWithEqualityConstraints()\n",
    "\n",
    "A = np.array([1., -1.]).reshape(1, 2)\n",
    "b = np.array([1.])\n",
    "x0 = np.array([11., 10.])\n",
    "\n",
    "solver.minimize(func=f, grad_func=df, hessian_func=d2f, A=A, b=b, x0=x0)"
   ]
  },
  {
   "cell_type": "markdown",
   "metadata": {},
   "source": [
    "# Interior-point barrier method\n",
    "Now we are ready to implement the barrier method. The implementations follows chapter 11 of Boyd Vandenberghe Convex optimization 2004 book."
   ]
  },
  {
   "cell_type": "code",
   "execution_count": 4,
   "metadata": {},
   "outputs": [],
   "source": [
    "class BarrierSolver:\n",
    "    \"\"\"An implemetation of barrier method: an interior-point algorithm \n",
    "    from Boyd Vandenberghe Convex optimization 2004\"\"\"\n",
    "    def __init__(self, func0, grad_func0, hessian_func0, barrier_func,\n",
    "                       grad_barrier_func, hessian_barrier_func,\n",
    "                       A, b, m):\n",
    "        self._f0 = func0\n",
    "        self._gf0 = grad_func0\n",
    "        self._hf0 = hessian_func0\n",
    "        \n",
    "        self._bf = barrier_func\n",
    "        self._gbf = grad_barrier_func\n",
    "        self._hbf = hessian_barrier_func\n",
    "        \n",
    "        self._A = A\n",
    "        self._b = b\n",
    "        self._m = m\n",
    "        \n",
    "        self._newtons_method = NewtonMethodWithEqualityConstraints()\n",
    "    \n",
    "    def _get_functions(self, t):\n",
    "        func = lambda x: t * self._f0(x) + self._bf(x)\n",
    "        grad_func = lambda x: t * self._gf0(x) + self._gbf(x)\n",
    "        hessian_func = lambda x: t * self._hf0(x) + self._hbf(x)\n",
    "        return func, grad_func, hessian_func\n",
    "    \n",
    "    def _centering_step(self, x, t):\n",
    "        f, gf, hf = self._get_functions(t)\n",
    "        x_centered = self._newtons_method.minimize(func=f,\n",
    "                                                   grad_func=gf,\n",
    "                                                   hessian_func=hf,\n",
    "                                                   A=self._A,\n",
    "                                                   b=self._b,\n",
    "                                                   x0=x)\n",
    "        return x_centered\n",
    "    \n",
    "    def minimize(self, x0, t=1., mu=10., tol=1e-6):\n",
    "        num_iter = 0\n",
    "        print('num_iter={}; x={}'.format(num_iter, x0))\n",
    "        while True:\n",
    "            x_centered = self._centering_step(x0, t)\n",
    "            x0 = x_centered\n",
    "            num_iter += 1\n",
    "            print('num_iter={}; x={}'.format(num_iter, x0))\n",
    "            if self._m / t < tol:\n",
    "                break\n",
    "            t *= mu\n",
    "        return x0"
   ]
  },
  {
   "cell_type": "markdown",
   "metadata": {},
   "source": [
    "Now we apply the implemented method to the problem of communication channel capacity. "
   ]
  },
  {
   "cell_type": "code",
   "execution_count": 5,
   "metadata": {},
   "outputs": [],
   "source": [
    "def func(z, c, n, m):\n",
    "    \"\"\" z = (x1, ..., xn, y1, ..., ym)\"\"\"\n",
    "    assert len(z) == n + m\n",
    "    assert len(c) == n\n",
    "    \n",
    "    comp1 = np.dot(c, z[:n])\n",
    "    comp2 = np.sum([y_j * np.log2(y_j) for y_j in z[-m:]])\n",
    "    return comp1 + comp2\n",
    "\n",
    "def grad_func(z, c, n, m):\n",
    "    \"\"\" z = (x1, ..., xn, y1, ..., ym)\"\"\"\n",
    "    assert len(z) == n + m\n",
    "    assert len(c) == n\n",
    "\n",
    "    res = np.zeros(len(z), dtype=z.dtype)\n",
    "    res[:n] = c\n",
    "    res[-m:] = 1. / np.log(2.) + np.log2(z[-m:])\n",
    "    return res\n",
    "\n",
    "def hessian_func(z, c, n, m):\n",
    "    \"\"\" z = (x1, ..., xn, y1, ..., ym)\"\"\"\n",
    "    assert len(z) == n + m\n",
    "    assert len(c) == n\n",
    "    \n",
    "    res = np.zeros(shape=(n + m, n + m), dtype=z.dtype)\n",
    "    for j in range(m):\n",
    "        res[n + j, n + j] = 1. / (z[n + j] * np.log(2.))\n",
    "    return res\n",
    "\n",
    "def barrier_func(z, n, m):\n",
    "    \"\"\" z = (x1, ..., xn, y1, ..., ym)\"\"\"\n",
    "    assert len(z) == n + m\n",
    "    \n",
    "    if np.min(z[:n]) < 0:\n",
    "        return np.inf\n",
    "    return -np.sum([np.log(x_i) for x_i in z[:n]])\n",
    "\n",
    "def grad_barrier_func(z, n, m):\n",
    "    \"\"\" z = (x1, ..., xn, y1, ..., ym)\"\"\"\n",
    "    assert len(z) == n + m\n",
    "    \n",
    "    res = z.copy()\n",
    "    res = -1. / res\n",
    "    res[-m:] = 0\n",
    "    return res\n",
    "\n",
    "def hessian_barrier_func(z, n, m):\n",
    "    \"\"\" z = (x1, ..., xn, y1, ..., ym)\"\"\"\n",
    "    assert len(z) == n + m\n",
    "    \n",
    "    res = np.zeros(shape=(n + m, n + m), dtype=z.dtype)\n",
    "    for i in range(n):\n",
    "        res[i, i] = 1. / z[i]**2\n",
    "    return res"
   ]
  },
  {
   "cell_type": "code",
   "execution_count": 6,
   "metadata": {},
   "outputs": [
    {
     "name": "stdout",
     "output_type": "stream",
     "text": [
      "[[0.13141014 0.18987113 0.11846558 0.09559841]\n",
      " [0.36143627 0.26392752 0.15641988 0.05927288]\n",
      " [0.26076315 0.25090666 0.04091871 0.04989451]\n",
      " [0.09872321 0.09866078 0.34360467 0.03738794]\n",
      " [0.14766723 0.19663391 0.34059116 0.75784627]] (5, 4)\n"
     ]
    },
    {
     "data": {
      "text/plain": [
       "array([0.35261514, 0.10243534, 0.34480155, 0.20014797, 0.12576766,\n",
       "       0.22028057, 0.14174586, 0.17087619, 0.34132972])"
      ]
     },
     "execution_count": 6,
     "metadata": {},
     "output_type": "execute_result"
    }
   ],
   "source": [
    "np.random.seed(420)\n",
    "\n",
    "n = 4\n",
    "m = 5\n",
    "P = np.array([np.random.uniform(size=n) for x in np.zeros(m)])\n",
    "P /= P.sum(axis=0)\n",
    "c_t = np.array([-np.sum(x * np.log2(x)) for x in P.T])\n",
    "print(P, P.shape)\n",
    "\n",
    "\n",
    "A = np.zeros(shape=(1 + m, n + m), dtype=P.dtype)\n",
    "A[0, :n] = 1.\n",
    "A[1:, :n] = -P\n",
    "A[1:, n:] = np.diag(np.ones(m, dtype=P.dtype))\n",
    "\n",
    "b = np.zeros(m + 1, dtype=P.dtype)\n",
    "b[0] = 1.\n",
    "\n",
    "\n",
    "x0 = np.random.uniform(low=0, high=10, size=n)\n",
    "x0 = x0 / np.sum(x0)\n",
    "\n",
    "y0 = P @ x0\n",
    "\n",
    "z0 = np.hstack([x0, y0])\n",
    "z0"
   ]
  },
  {
   "cell_type": "code",
   "execution_count": 7,
   "metadata": {
    "scrolled": false
   },
   "outputs": [
    {
     "name": "stdout",
     "output_type": "stream",
     "text": [
      "num_iter=0; x=[0.35261514 0.10243534 0.34480155 0.20014797 0.12576766 0.22028057\n",
      " 0.14174586 0.17087619 0.34132972]\n",
      "num_iter=1; x=[0.24792197 0.24174085 0.24704049 0.26329669 0.13291561 0.20765845\n",
      " 0.14854894 0.14305438 0.36782262]\n",
      "num_iter=2; x=[0.25000206 0.19396497 0.22186723 0.33416574 0.1279105  0.19606392\n",
      " 0.13960998 0.13254613 0.40386948]\n",
      "num_iter=3; x=[0.34874894 0.0693509  0.16695533 0.41494483 0.11844341 0.19506423\n",
      " 0.13587654 0.11415239 0.43646343]\n",
      "num_iter=4; x=[0.41132781 0.00887981 0.14496011 0.43483227 0.11448072 0.19946082\n",
      " 0.13711446 0.10755014 0.44139385]\n",
      "num_iter=5; x=[0.41985078 0.00091191 0.14193285 0.43730446 0.11396556 0.20011139\n",
      " 0.13733721 0.10665769 0.44192814]\n",
      "num_iter=6; x=[4.20732168e-01 9.14447449e-05 1.41617665e-01 4.37558722e-01\n",
      " 1.13912574e-01 2.00179184e-01 1.37360977e-01 1.06564961e-01\n",
      " 4.41982304e-01]\n",
      "num_iter=7; x=[4.20820614e-01 9.14667549e-06 1.41586015e-01 4.37584224e-01\n",
      " 1.13907259e-01 2.00185992e-01 1.37363368e-01 1.06555652e-01\n",
      " 4.41987729e-01]\n",
      "num_iter=8; x=[4.20829461e-01 9.14751910e-07 1.41582849e-01 4.37586774e-01\n",
      " 1.13906727e-01 2.00186673e-01 1.37363608e-01 1.06554721e-01\n",
      " 4.41988271e-01]\n"
     ]
    }
   ],
   "source": [
    "solver = BarrierSolver(func0=lambda z: func(z, c_t, n, m),\n",
    "                       grad_func0=lambda z: grad_func(z, c_t, n, m),\n",
    "                       hessian_func0=lambda z: hessian_func(z, c_t, n, m),\n",
    "                       barrier_func=lambda z: barrier_func(z, n, m),\n",
    "                       grad_barrier_func=lambda z: grad_barrier_func(z, n, m),\n",
    "                       hessian_barrier_func=lambda z: hessian_barrier_func(z, n, m),\n",
    "                       A=A, b=b, m=m)\n",
    "sol = solver.minimize(z0)"
   ]
  },
  {
   "cell_type": "code",
   "execution_count": 20,
   "metadata": {},
   "outputs": [
    {
     "data": {
      "text/plain": [
       "array([4.20829461e-01, 9.14751910e-07, 1.41582849e-01, 4.37586774e-01])"
      ]
     },
     "execution_count": 20,
     "metadata": {},
     "output_type": "execute_result"
    }
   ],
   "source": [
    "sol[:n]"
   ]
  },
  {
   "cell_type": "code",
   "execution_count": 21,
   "metadata": {},
   "outputs": [
    {
     "data": {
      "text/plain": [
       "0.9999999983475308"
      ]
     },
     "execution_count": 21,
     "metadata": {},
     "output_type": "execute_result"
    }
   ],
   "source": [
    "sol[:n].sum()"
   ]
  },
  {
   "cell_type": "code",
   "execution_count": 22,
   "metadata": {},
   "outputs": [
    {
     "data": {
      "text/plain": [
       "array([0.11390673, 0.20018667, 0.13736361, 0.10655472, 0.44198827])"
      ]
     },
     "execution_count": 22,
     "metadata": {},
     "output_type": "execute_result"
    }
   ],
   "source": [
    "sol[-m:]"
   ]
  },
  {
   "cell_type": "code",
   "execution_count": 23,
   "metadata": {},
   "outputs": [
    {
     "data": {
      "text/plain": [
       "array([0.11390673, 0.20018667, 0.13736361, 0.10655472, 0.44198827])"
      ]
     },
     "execution_count": 23,
     "metadata": {},
     "output_type": "execute_result"
    }
   ],
   "source": [
    "P @ sol[:n]"
   ]
  },
  {
   "cell_type": "code",
   "execution_count": 19,
   "metadata": {},
   "outputs": [
    {
     "data": {
      "text/plain": [
       "-0.33189265089215736"
      ]
     },
     "execution_count": 19,
     "metadata": {},
     "output_type": "execute_result"
    }
   ],
   "source": [
    "func(sol, c_t, n, m)"
   ]
  },
  {
   "cell_type": "code",
   "execution_count": 13,
   "metadata": {},
   "outputs": [],
   "source": [
    "alt = [ 0.40206418,  0.35333899, 0.04970143,  0.19489541]\n",
    "alt2 = P @ alt\n",
    "\n",
    "alt3 = np.hstack([alt, alt2])"
   ]
  },
  {
   "cell_type": "code",
   "execution_count": 14,
   "metadata": {},
   "outputs": [
    {
     "data": {
      "text/plain": [
       "-0.21456748792968705"
      ]
     },
     "execution_count": 14,
     "metadata": {},
     "output_type": "execute_result"
    }
   ],
   "source": [
    "func(alt3, c_t, n, m)"
   ]
  },
  {
   "cell_type": "code",
   "execution_count": null,
   "metadata": {},
   "outputs": [],
   "source": []
  }
 ],
 "metadata": {
  "kernelspec": {
   "display_name": "Python [conda env:py36]",
   "language": "python",
   "name": "conda-env-py36-py"
  },
  "language_info": {
   "codemirror_mode": {
    "name": "ipython",
    "version": 3
   },
   "file_extension": ".py",
   "mimetype": "text/x-python",
   "name": "python",
   "nbconvert_exporter": "python",
   "pygments_lexer": "ipython3",
   "version": "3.6.4"
  }
 },
 "nbformat": 4,
 "nbformat_minor": 2
}
