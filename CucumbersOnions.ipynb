{
 "cells": [
  {
   "cell_type": "code",
   "execution_count": 2,
   "metadata": {},
   "outputs": [],
   "source": [
    "from cvxopt import matrix, solvers"
   ]
  },
  {
   "cell_type": "code",
   "execution_count": 4,
   "metadata": {},
   "outputs": [],
   "source": [
    "A = matrix([ [-1.0, 0.0, 0.0, 2.0, 1.0], [0.0, -1.0, 1.0, 1.0, 2.0] ])\n",
    "b = matrix([0.0, 0.0, 3.0, 8.0, 7.0])\n",
    "c = matrix([-4.0, -5.0])"
   ]
  },
  {
   "cell_type": "code",
   "execution_count": 5,
   "metadata": {},
   "outputs": [
    {
     "name": "stdout",
     "output_type": "stream",
     "text": [
      "     pcost       dcost       gap    pres   dres   k/t\n",
      " 0: -2.0538e+01 -4.8231e+01  1e+01  0e+00  9e-01  1e+00\n",
      " 1: -2.1458e+01 -2.4049e+01  9e-01  4e-17  8e-02  8e-02\n",
      " 2: -2.1993e+01 -2.2046e+01  2e-02  7e-17  2e-03  2e-03\n",
      " 3: -2.2000e+01 -2.2000e+01  2e-04  7e-17  2e-05  2e-05\n",
      " 4: -2.2000e+01 -2.2000e+01  2e-06  2e-16  2e-07  2e-07\n",
      " 5: -2.2000e+01 -2.2000e+01  2e-08  2e-16  2e-09  2e-09\n",
      "Optimal solution found.\n"
     ]
    }
   ],
   "source": [
    "sol = solvers.lp(c, A, b)"
   ]
  },
  {
   "cell_type": "code",
   "execution_count": 6,
   "metadata": {},
   "outputs": [
    {
     "name": "stdout",
     "output_type": "stream",
     "text": [
      "[ 3.00e+00]\n",
      "[ 2.00e+00]\n",
      "\n"
     ]
    }
   ],
   "source": [
    "print(sol['x'])"
   ]
  },
  {
   "cell_type": "code",
   "execution_count": null,
   "metadata": {},
   "outputs": [],
   "source": []
  }
 ],
 "metadata": {
  "kernelspec": {
   "display_name": "Python 3",
   "language": "python",
   "name": "python3"
  },
  "language_info": {
   "codemirror_mode": {
    "name": "ipython",
    "version": 3
   },
   "file_extension": ".py",
   "mimetype": "text/x-python",
   "name": "python",
   "nbconvert_exporter": "python",
   "pygments_lexer": "ipython3",
   "version": "3.6.6"
  }
 },
 "nbformat": 4,
 "nbformat_minor": 2
}
