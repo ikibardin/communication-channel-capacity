{
 "cells": [
  {
   "cell_type": "code",
   "execution_count": 11,
   "metadata": {},
   "outputs": [],
   "source": [
    "import cvxopt\n",
    "import numpy as np"
   ]
  },
  {
   "cell_type": "code",
   "execution_count": 14,
   "metadata": {},
   "outputs": [
    {
     "name": "stdout",
     "output_type": "stream",
     "text": [
      "     pcost       dcost       gap    pres   dres   k/t\n",
      " 0: -3.5456e+03 -1.9461e+04  3e+04  4e-01  3e-03  1e+00\n",
      " 1: -4.8853e+03 -1.2534e+04  2e+04  2e-01  2e-03  1e+02\n",
      " 2: -5.1679e+03 -1.2762e+04  2e+04  2e-01  2e-03  2e+02\n",
      " 3: -7.5093e+03 -9.5855e+03  5e+03  5e-02  5e-04  8e+01\n",
      " 4: -8.7254e+03 -1.0913e+04  7e+03  6e-02  5e-04  2e+02\n",
      " 5: -1.0877e+04 -1.1031e+04  5e+02  4e-03  4e-05  2e+01\n",
      " 6: -1.0999e+04 -1.1002e+04  1e+01  8e-05  7e-07  3e-01\n",
      " 7: -1.1000e+04 -1.1000e+04  1e-01  8e-07  7e-09  3e-03\n",
      " 8: -1.1000e+04 -1.1000e+04  1e-03  8e-09  7e-11  3e-05\n",
      "Optimal solution found.\n"
     ]
    }
   ],
   "source": [
    "c = cvxopt.matrix([1500., 0., 0., -4., 0., 0., 0., -8., -10.])\n",
    "\n",
    "G = cvxopt.matrix(\n",
    "           [[0., 0., 0., -1., 0., 0., 0., 0., 0., 0., 0., 0.], \n",
    "            [0., 0., 0., 0., -1., 0., 0., 0., 0., 0., 0., 0.],\n",
    "            [0., 0., 0., 0., 0., -1., 0., 0., 0., 0., 0., 0.],\n",
    "            [1., 0., 0., 0., 0., 0., -1., 0., 0., 0., 0., 0.],\n",
    "            [0., 0., 0., 0., 0., 0., 0., -1., 0., 0., 0., 0.],\n",
    "            [0., 0., 0., 0., 0., 0., 0., 0., -1., 0., 0., 0.],\n",
    "            [0., 0., 0., 0., 0., 0., 0., 0., 0., -1., 0., 0.],\n",
    "            [0., 1., 0., 0., 0., 0., 0., 0., 0., 0., -1., 0.],\n",
    "            [0., 0., 1., 0., 0., 0., 0., 0., 0., 0., 0., -1.]]\n",
    ")\n",
    "\n",
    "h = cvxopt.matrix([5000., 2000., 500., 0., 0., 0., 0., 0., 0., 0., 0., 0.])\n",
    "\n",
    "A = cvxopt.matrix(\n",
    "           [[1000., 0., 0., 0., 0.],\n",
    "            [-2., 0., 0., 1., 0.],\n",
    "            [0., 0.6, 0., -1., 0.],\n",
    "            [0., 0., 0., -1., 0.],\n",
    "            [-4., 0., 0., 0., 1.],\n",
    "            [0., -1., 0., 0., 1.],\n",
    "            [0., 0., 0.4, 0., -1.],\n",
    "            [0., 0., 0., 0., -1.],\n",
    "            [0., 0., -1., 0., 0.]]\n",
    ")\n",
    "\n",
    "b = cvxopt.matrix([0., 0., 0., 0., 0.])\n",
    "\n",
    "solvers = cvxopt.solvers.lp(c, G, h, A=A, b=b)"
   ]
  },
  {
   "cell_type": "code",
   "execution_count": 10,
   "metadata": {},
   "outputs": [
    {
     "name": "stdout",
     "output_type": "stream",
     "text": [
      "[ 1.67e+01]\n",
      "[ 8.33e+03]\n",
      "[ 3.33e+03]\n",
      "[ 5.00e+03]\n",
      "[-9.37e-07]\n",
      "[ 2.00e+03]\n",
      "[ 7.84e-05]\n",
      "[ 2.00e+03]\n",
      "[ 3.14e-05]\n",
      "\n",
      "-10999.999880001938\n"
     ]
    }
   ],
   "source": [
    "print(sol['x'])\n",
    "print(sol['primal objective'])"
   ]
  },
  {
   "cell_type": "code",
   "execution_count": null,
   "metadata": {},
   "outputs": [],
   "source": []
  }
 ],
 "metadata": {
  "kernelspec": {
   "display_name": "Python [conda env:py36]",
   "language": "python",
   "name": "conda-env-py36-py"
  },
  "language_info": {
   "codemirror_mode": {
    "name": "ipython",
    "version": 3
   },
   "file_extension": ".py",
   "mimetype": "text/x-python",
   "name": "python",
   "nbconvert_exporter": "python",
   "pygments_lexer": "ipython3",
   "version": "3.6.4"
  }
 },
 "nbformat": 4,
 "nbformat_minor": 2
}
