{
 "cells": [
  {
   "cell_type": "code",
   "execution_count": 12,
   "metadata": {
    "collapsed": true
   },
   "outputs": [],
   "source": [
    "from cvxopt import matrix\n",
    "from cvxopt.solvers import lp\n",
    "import numpy as np"
   ]
  },
  {
   "cell_type": "code",
   "execution_count": 18,
   "metadata": {
    "collapsed": true
   },
   "outputs": [],
   "source": [
    "c = [90, 100, -5, -20, -20]\n",
    "s = [[0,    0,  15,  15],\n",
    "     [0,   15,   0,    5],\n",
    "     [15,   0,   0,    0],\n",
    "     [0,   15,   0,    0],\n",
    "     [0,    0,   5,    0]]"
   ]
  },
  {
   "cell_type": "code",
   "execution_count": 47,
   "metadata": {
    "collapsed": true
   },
   "outputs": [],
   "source": [
    "n = 5"
   ]
  },
  {
   "cell_type": "code",
   "execution_count": 55,
   "metadata": {},
   "outputs": [
    {
     "name": "stdout",
     "output_type": "stream",
     "text": [
      "     pcost       dcost       gap    pres   dres   k/t\n",
      " 0: -1.3075e+04 -1.2289e+05  3e+04  1e-01  4e+00  1e+00\n",
      " 1: -6.5453e+03 -2.0555e+05  2e+05  2e-01  7e+00  3e+03\n",
      " 2: -7.5079e+03 -3.8021e+04  1e+04  3e-02  1e+00  3e+03\n",
      " 3: -6.2821e+03 -1.0220e+04  9e+02  4e-03  1e-01  3e+02\n",
      " 4: -6.3640e+03 -8.2463e+03  6e+02  2e-03  7e-02  1e+02\n",
      " 5: -6.2902e+03 -6.5380e+03  9e+01  2e-04  8e-03  5e+00\n",
      " 6: -6.2999e+03 -6.3027e+03  1e+00  3e-06  9e-05  5e-02\n",
      " 7: -6.3000e+03 -6.3000e+03  1e-02  3e-08  9e-07  5e-04\n",
      " 8: -6.3000e+03 -6.3000e+03  1e-04  3e-10  9e-09  5e-06\n",
      "Optimal solution found.\n"
     ]
    }
   ],
   "source": [
    "cc = matrix(-1 * np.array(c, dtype=np.float))\n",
    "\n",
    "B = np.concatenate((np.eye(2), np.zeros((3, 2))))\n",
    "C = [[1, 1, 1],\n",
    "     [0, 1, 1]]\n",
    "D = np.concatenate((C, -1 * np.eye(3)))\n",
    "\n",
    "G = matrix(np.concatenate((B, s, -1 * np.eye(n), D), axis=1).T)\n",
    "h = matrix(np.concatenate(([100, 50, 2400, 2400, 2400, 2400], np.zeros(3 + 5))).T)\n",
    "\n",
    "sol = lp(cc, G, h)"
   ]
  },
  {
   "cell_type": "code",
   "execution_count": 56,
   "metadata": {},
   "outputs": [
    {
     "name": "stdout",
     "output_type": "stream",
     "text": [
      "[ 1.00e+02]\n",
      "[ 3.00e+01]\n",
      "[ 1.00e+02]\n",
      "[ 1.30e+02]\n",
      "[ 1.30e+02]\n",
      "\n"
     ]
    }
   ],
   "source": [
    "print(sol['x'])"
   ]
  },
  {
   "cell_type": "code",
   "execution_count": 58,
   "metadata": {},
   "outputs": [
    {
     "name": "stdout",
     "output_type": "stream",
     "text": [
      "[ 1.00e+00  0.00e+00  0.00e+00  0.00e+00  0.00e+00]\n",
      "[ 0.00e+00  1.00e+00  0.00e+00  0.00e+00  0.00e+00]\n",
      "[ 0.00e+00  0.00e+00  1.50e+01  0.00e+00  0.00e+00]\n",
      "[ 0.00e+00  1.50e+01  0.00e+00  1.50e+01  0.00e+00]\n",
      "[ 1.50e+01  0.00e+00  0.00e+00  0.00e+00  5.00e+00]\n",
      "[ 1.50e+01  5.00e+00  0.00e+00  0.00e+00  0.00e+00]\n",
      "[-1.00e+00 -0.00e+00 -0.00e+00 -0.00e+00 -0.00e+00]\n",
      "[-0.00e+00 -1.00e+00 -0.00e+00 -0.00e+00 -0.00e+00]\n",
      "[-0.00e+00 -0.00e+00 -1.00e+00 -0.00e+00 -0.00e+00]\n",
      "[-0.00e+00 -0.00e+00 -0.00e+00 -1.00e+00 -0.00e+00]\n",
      "[-0.00e+00 -0.00e+00 -0.00e+00 -0.00e+00 -1.00e+00]\n",
      "[ 1.00e+00  0.00e+00 -1.00e+00 -0.00e+00 -0.00e+00]\n",
      "[ 1.00e+00  1.00e+00 -0.00e+00 -1.00e+00 -0.00e+00]\n",
      "[ 1.00e+00  1.00e+00 -0.00e+00 -0.00e+00 -1.00e+00]\n",
      "\n"
     ]
    }
   ],
   "source": [
    "print(G)"
   ]
  },
  {
   "cell_type": "code",
   "execution_count": null,
   "metadata": {
    "collapsed": true
   },
   "outputs": [],
   "source": []
  }
 ],
 "metadata": {
  "kernelspec": {
   "display_name": "Python 3",
   "language": "python",
   "name": "python3"
  },
  "language_info": {
   "codemirror_mode": {
    "name": "ipython",
    "version": 3
   },
   "file_extension": ".py",
   "mimetype": "text/x-python",
   "name": "python",
   "nbconvert_exporter": "python",
   "pygments_lexer": "ipython3",
   "version": "3.6.7"
  }
 },
 "nbformat": 4,
 "nbformat_minor": 2
}
