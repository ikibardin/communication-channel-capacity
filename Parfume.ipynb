{
 "cells": [
  {
   "cell_type": "code",
   "execution_count": 1,
   "metadata": {},
   "outputs": [],
   "source": [
    "from cvxopt import matrix, solvers"
   ]
  },
  {
   "cell_type": "code",
   "execution_count": 2,
   "metadata": {},
   "outputs": [],
   "source": [
    "A = matrix([ [-1.0, 0.0, 1.0, 0.0, 3.0],\n",
    "             [0.0, -1.0, 0.0, 1.0, 2.0] ])\n",
    "b = matrix([0.0, 0.0, 4.0, 6.0, 18.0])\n",
    "c = matrix([-300.0, -500.0])"
   ]
  },
  {
   "cell_type": "code",
   "execution_count": 3,
   "metadata": {},
   "outputs": [
    {
     "name": "stdout",
     "output_type": "stream",
     "text": [
      "     pcost       dcost       gap    pres   dres   k/t\n",
      " 0: -2.8600e+03 -6.3413e+03  1e+03  0e+00  8e-01  1e+00\n",
      " 1: -3.5397e+03 -5.0920e+03  6e+02  2e-16  3e-01  3e+01\n",
      " 2: -3.5923e+03 -3.6529e+03  2e+01  4e-16  1e-02  9e-01\n",
      " 3: -3.5999e+03 -3.6005e+03  2e-01  2e-16  1e-04  9e-03\n",
      " 4: -3.6000e+03 -3.6000e+03  2e-03  2e-16  1e-06  9e-05\n",
      " 5: -3.6000e+03 -3.6000e+03  2e-05  2e-16  1e-08  9e-07\n",
      "Optimal solution found.\n"
     ]
    }
   ],
   "source": [
    "sol = solvers.lp(c, A, b)"
   ]
  },
  {
   "cell_type": "code",
   "execution_count": 4,
   "metadata": {},
   "outputs": [
    {
     "name": "stdout",
     "output_type": "stream",
     "text": [
      "[ 2.00e+00]\n",
      "[ 6.00e+00]\n",
      "\n"
     ]
    }
   ],
   "source": [
    "print(sol['x'])"
   ]
  },
  {
   "cell_type": "code",
   "execution_count": null,
   "metadata": {},
   "outputs": [],
   "source": []
  }
 ],
 "metadata": {
  "kernelspec": {
   "display_name": "Python 3",
   "language": "python",
   "name": "python3"
  },
  "language_info": {
   "codemirror_mode": {
    "name": "ipython",
    "version": 3
   },
   "file_extension": ".py",
   "mimetype": "text/x-python",
   "name": "python",
   "nbconvert_exporter": "python",
   "pygments_lexer": "ipython3",
   "version": "3.6.6"
  }
 },
 "nbformat": 4,
 "nbformat_minor": 2
}
