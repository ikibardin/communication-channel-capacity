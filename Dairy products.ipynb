{
 "cells": [
  {
   "cell_type": "code",
   "execution_count": 1,
   "metadata": {},
   "outputs": [],
   "source": [
    "from cvxopt import matrix, solvers"
   ]
  },
  {
   "cell_type": "code",
   "execution_count": 2,
   "metadata": {},
   "outputs": [],
   "source": [
    "G = matrix([[15.0, -1.0, 0.0, 0.0, 0.0, 0.0, 0.0],\n",
    "            [30.0, 0.0, -1.0, 0.0, 0.0, 0.0, 0.0],\n",
    "            [10.0, 0.0, 0.0, -1.0, 0.0, 0.0, 0.0],\n",
    "            [0.0, 0.0, 0.0, 0.0, -1.0, 0.0, 0.0],\n",
    "            [0.0, 0.0, 0.0, 0.0, 0.0, -1.0, 0.0],\n",
    "            [0.0, 0.0, 0.0, 0.0, 0.0, 0.0, -1.0]])\n",
    "A = matrix([[5.0, 3.0, 2.0], \n",
    "            [5.0, 0.0, 5.0], \n",
    "            [2.0, 0.0, 4.0], \n",
    "            [1.0, 0.0, 0.0], \n",
    "            [0.0, 1.0, 0.0], \n",
    "            [0.0, 0.0, 1.0]])\n",
    "b = matrix([3000.0, 1000.0, 4000.0])\n",
    "c = matrix([-20.0, -25.0, -15.0, -0.25, -0.25, -0.25])\n",
    "h = matrix([15000.0, 0.0, 0.0, 0.0, 0.0, 0.0, 0.0])"
   ]
  },
  {
   "cell_type": "code",
   "execution_count": 3,
   "metadata": {},
   "outputs": [
    {
     "name": "stdout",
     "output_type": "stream",
     "text": [
      "     pcost       dcost       gap    pres   dres   k/t\n",
      " 0: -1.8168e+04 -4.6586e+04  7e+03  5e-02  2e+00  1e+00\n",
      " 1: -1.7963e+04 -2.1005e+04  5e+02  5e-03  2e-01  4e+01\n",
      " 2: -1.7992e+04 -1.9164e+04  2e+02  2e-03  8e-02  2e+01\n",
      " 3: -1.8170e+04 -1.8954e+04  2e+02  1e-03  5e-02  2e+01\n",
      " 4: -1.8182e+04 -1.8249e+04  2e+01  1e-04  4e-03  2e+00\n",
      " 5: -1.8187e+04 -1.8188e+04  2e-01  1e-06  5e-05  2e-02\n",
      " 6: -1.8187e+04 -1.8188e+04  2e-03  1e-08  5e-07  2e-04\n",
      " 7: -1.8187e+04 -1.8188e+04  2e-05  1e-10  5e-09  2e-06\n",
      "Optimal solution found.\n"
     ]
    }
   ],
   "source": [
    "sol=solvers.lp(c, G, h, A, b)"
   ]
  },
  {
   "cell_type": "code",
   "execution_count": 4,
   "metadata": {},
   "outputs": [
    {
     "name": "stdout",
     "output_type": "stream",
     "text": [
      "[ 2.50e+02]\n",
      "[ 3.86e-06]\n",
      "[ 8.75e+02]\n",
      "[ 1.55e-07]\n",
      "[ 2.50e+02]\n",
      "[ 4.99e-07]\n",
      "\n"
     ]
    }
   ],
   "source": [
    "print(sol['x'])"
   ]
  },
  {
   "cell_type": "code",
   "execution_count": null,
   "metadata": {},
   "outputs": [],
   "source": []
  }
 ],
 "metadata": {
  "kernelspec": {
   "display_name": "Python 3",
   "language": "python",
   "name": "python3"
  },
  "language_info": {
   "codemirror_mode": {
    "name": "ipython",
    "version": 3
   },
   "file_extension": ".py",
   "mimetype": "text/x-python",
   "name": "python",
   "nbconvert_exporter": "python",
   "pygments_lexer": "ipython3",
   "version": "3.6.6"
  }
 },
 "nbformat": 4,
 "nbformat_minor": 2
}
